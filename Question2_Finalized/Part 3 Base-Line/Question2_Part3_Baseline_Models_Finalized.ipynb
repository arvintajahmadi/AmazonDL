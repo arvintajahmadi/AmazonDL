{
  "cells": [
    {
      "cell_type": "markdown",
      "metadata": {
        "id": "qKLEZfdI9rhW"
      },
      "source": [
        "<h3 align=middle style=\"line-height:500%;font-family:vazir;color:#0099cc\">\n",
        "<font face=\"vazir\" color=\"#0099cc\">\n",
        "Project Three, Question Two, Part Three\n",
        "</font>\n",
        "</h3>"
      ]
    },
    {
      "cell_type": "markdown",
      "metadata": {
        "id": "BKDMmFJP9rhZ"
      },
      "source": [
        "<h3 align=left style=\"line-height:500%;font-family:vazir;color:#0099cc\">\n",
        "<font face=\"vazir\" color=\"#0099cc\">\n",
        "Part Three:\n",
        "</font>\n",
        "</h3>\n",
        "\n",
        "We have pretty much processed our data through parts 1&2 and now we have a great view about its columns and their relations, so we will just impor the data saved in the previous notebook and continue our journey."
      ]
    },
    {
      "cell_type": "markdown",
      "metadata": {
        "id": "83c2gNEH9rha"
      },
      "source": [
        "<h3 align=left style=\"line-height:500%;font-family:vazir;color:#0099cc\">\n",
        "<font face=\"vazir\" color=\"#0099cc\">\n",
        "Preprocessing phase:\n",
        "</font>\n",
        "</h3>"
      ]
    },
    {
      "cell_type": "code",
      "execution_count": 1,
      "metadata": {
        "colab": {
          "base_uri": "https://localhost:8080/"
        },
        "id": "yT_qanbwKqLc",
        "outputId": "8fd9667a-0cd5-4c8f-b910-ab44c3c54fca"
      },
      "outputs": [
        {
          "name": "stdout",
          "output_type": "stream",
          "text": [
            "Collecting tensorflow_text\n",
            "  Downloading tensorflow_text-2.14.0-cp310-cp310-manylinux_2_17_x86_64.manylinux2014_x86_64.whl (6.5 MB)\n",
            "\u001b[2K     \u001b[90m━━━━━━━━━━━━━━━━━━━━━━━━━━━━━━━━━━━━━━━━\u001b[0m \u001b[32m6.5/6.5 MB\u001b[0m \u001b[31m21.2 MB/s\u001b[0m eta \u001b[36m0:00:00\u001b[0m\n",
            "\u001b[?25hRequirement already satisfied: tensorflow-hub>=0.13.0 in /usr/local/lib/python3.10/dist-packages (from tensorflow_text) (0.15.0)\n",
            "Requirement already satisfied: tensorflow<2.15,>=2.14.0 in /usr/local/lib/python3.10/dist-packages (from tensorflow_text) (2.14.0)\n",
            "Requirement already satisfied: absl-py>=1.0.0 in /usr/local/lib/python3.10/dist-packages (from tensorflow<2.15,>=2.14.0->tensorflow_text) (1.4.0)\n",
            "Requirement already satisfied: astunparse>=1.6.0 in /usr/local/lib/python3.10/dist-packages (from tensorflow<2.15,>=2.14.0->tensorflow_text) (1.6.3)\n",
            "Requirement already satisfied: flatbuffers>=23.5.26 in /usr/local/lib/python3.10/dist-packages (from tensorflow<2.15,>=2.14.0->tensorflow_text) (23.5.26)\n",
            "Requirement already satisfied: gast!=0.5.0,!=0.5.1,!=0.5.2,>=0.2.1 in /usr/local/lib/python3.10/dist-packages (from tensorflow<2.15,>=2.14.0->tensorflow_text) (0.5.4)\n",
            "Requirement already satisfied: google-pasta>=0.1.1 in /usr/local/lib/python3.10/dist-packages (from tensorflow<2.15,>=2.14.0->tensorflow_text) (0.2.0)\n",
            "Requirement already satisfied: h5py>=2.9.0 in /usr/local/lib/python3.10/dist-packages (from tensorflow<2.15,>=2.14.0->tensorflow_text) (3.9.0)\n",
            "Requirement already satisfied: libclang>=13.0.0 in /usr/local/lib/python3.10/dist-packages (from tensorflow<2.15,>=2.14.0->tensorflow_text) (16.0.6)\n",
            "Requirement already satisfied: ml-dtypes==0.2.0 in /usr/local/lib/python3.10/dist-packages (from tensorflow<2.15,>=2.14.0->tensorflow_text) (0.2.0)\n",
            "Requirement already satisfied: numpy>=1.23.5 in /usr/local/lib/python3.10/dist-packages (from tensorflow<2.15,>=2.14.0->tensorflow_text) (1.23.5)\n",
            "Requirement already satisfied: opt-einsum>=2.3.2 in /usr/local/lib/python3.10/dist-packages (from tensorflow<2.15,>=2.14.0->tensorflow_text) (3.3.0)\n",
            "Requirement already satisfied: packaging in /usr/local/lib/python3.10/dist-packages (from tensorflow<2.15,>=2.14.0->tensorflow_text) (23.2)\n",
            "Requirement already satisfied: protobuf!=4.21.0,!=4.21.1,!=4.21.2,!=4.21.3,!=4.21.4,!=4.21.5,<5.0.0dev,>=3.20.3 in /usr/local/lib/python3.10/dist-packages (from tensorflow<2.15,>=2.14.0->tensorflow_text) (3.20.3)\n",
            "Requirement already satisfied: setuptools in /usr/local/lib/python3.10/dist-packages (from tensorflow<2.15,>=2.14.0->tensorflow_text) (67.7.2)\n",
            "Requirement already satisfied: six>=1.12.0 in /usr/local/lib/python3.10/dist-packages (from tensorflow<2.15,>=2.14.0->tensorflow_text) (1.16.0)\n",
            "Requirement already satisfied: termcolor>=1.1.0 in /usr/local/lib/python3.10/dist-packages (from tensorflow<2.15,>=2.14.0->tensorflow_text) (2.3.0)\n",
            "Requirement already satisfied: typing-extensions>=3.6.6 in /usr/local/lib/python3.10/dist-packages (from tensorflow<2.15,>=2.14.0->tensorflow_text) (4.5.0)\n",
            "Requirement already satisfied: wrapt<1.15,>=1.11.0 in /usr/local/lib/python3.10/dist-packages (from tensorflow<2.15,>=2.14.0->tensorflow_text) (1.14.1)\n",
            "Requirement already satisfied: tensorflow-io-gcs-filesystem>=0.23.1 in /usr/local/lib/python3.10/dist-packages (from tensorflow<2.15,>=2.14.0->tensorflow_text) (0.34.0)\n",
            "Requirement already satisfied: grpcio<2.0,>=1.24.3 in /usr/local/lib/python3.10/dist-packages (from tensorflow<2.15,>=2.14.0->tensorflow_text) (1.59.2)\n",
            "Requirement already satisfied: tensorboard<2.15,>=2.14 in /usr/local/lib/python3.10/dist-packages (from tensorflow<2.15,>=2.14.0->tensorflow_text) (2.14.1)\n",
            "Requirement already satisfied: tensorflow-estimator<2.15,>=2.14.0 in /usr/local/lib/python3.10/dist-packages (from tensorflow<2.15,>=2.14.0->tensorflow_text) (2.14.0)\n",
            "Requirement already satisfied: keras<2.15,>=2.14.0 in /usr/local/lib/python3.10/dist-packages (from tensorflow<2.15,>=2.14.0->tensorflow_text) (2.14.0)\n",
            "Requirement already satisfied: wheel<1.0,>=0.23.0 in /usr/local/lib/python3.10/dist-packages (from astunparse>=1.6.0->tensorflow<2.15,>=2.14.0->tensorflow_text) (0.41.3)\n",
            "Requirement already satisfied: google-auth<3,>=1.6.3 in /usr/local/lib/python3.10/dist-packages (from tensorboard<2.15,>=2.14->tensorflow<2.15,>=2.14.0->tensorflow_text) (2.17.3)\n",
            "Requirement already satisfied: google-auth-oauthlib<1.1,>=0.5 in /usr/local/lib/python3.10/dist-packages (from tensorboard<2.15,>=2.14->tensorflow<2.15,>=2.14.0->tensorflow_text) (1.0.0)\n",
            "Requirement already satisfied: markdown>=2.6.8 in /usr/local/lib/python3.10/dist-packages (from tensorboard<2.15,>=2.14->tensorflow<2.15,>=2.14.0->tensorflow_text) (3.5.1)\n",
            "Requirement already satisfied: requests<3,>=2.21.0 in /usr/local/lib/python3.10/dist-packages (from tensorboard<2.15,>=2.14->tensorflow<2.15,>=2.14.0->tensorflow_text) (2.31.0)\n",
            "Requirement already satisfied: tensorboard-data-server<0.8.0,>=0.7.0 in /usr/local/lib/python3.10/dist-packages (from tensorboard<2.15,>=2.14->tensorflow<2.15,>=2.14.0->tensorflow_text) (0.7.2)\n",
            "Requirement already satisfied: werkzeug>=1.0.1 in /usr/local/lib/python3.10/dist-packages (from tensorboard<2.15,>=2.14->tensorflow<2.15,>=2.14.0->tensorflow_text) (3.0.1)\n",
            "Requirement already satisfied: cachetools<6.0,>=2.0.0 in /usr/local/lib/python3.10/dist-packages (from google-auth<3,>=1.6.3->tensorboard<2.15,>=2.14->tensorflow<2.15,>=2.14.0->tensorflow_text) (5.3.2)\n",
            "Requirement already satisfied: pyasn1-modules>=0.2.1 in /usr/local/lib/python3.10/dist-packages (from google-auth<3,>=1.6.3->tensorboard<2.15,>=2.14->tensorflow<2.15,>=2.14.0->tensorflow_text) (0.3.0)\n",
            "Requirement already satisfied: rsa<5,>=3.1.4 in /usr/local/lib/python3.10/dist-packages (from google-auth<3,>=1.6.3->tensorboard<2.15,>=2.14->tensorflow<2.15,>=2.14.0->tensorflow_text) (4.9)\n",
            "Requirement already satisfied: requests-oauthlib>=0.7.0 in /usr/local/lib/python3.10/dist-packages (from google-auth-oauthlib<1.1,>=0.5->tensorboard<2.15,>=2.14->tensorflow<2.15,>=2.14.0->tensorflow_text) (1.3.1)\n",
            "Requirement already satisfied: charset-normalizer<4,>=2 in /usr/local/lib/python3.10/dist-packages (from requests<3,>=2.21.0->tensorboard<2.15,>=2.14->tensorflow<2.15,>=2.14.0->tensorflow_text) (3.3.2)\n",
            "Requirement already satisfied: idna<4,>=2.5 in /usr/local/lib/python3.10/dist-packages (from requests<3,>=2.21.0->tensorboard<2.15,>=2.14->tensorflow<2.15,>=2.14.0->tensorflow_text) (3.4)\n",
            "Requirement already satisfied: urllib3<3,>=1.21.1 in /usr/local/lib/python3.10/dist-packages (from requests<3,>=2.21.0->tensorboard<2.15,>=2.14->tensorflow<2.15,>=2.14.0->tensorflow_text) (2.0.7)\n",
            "Requirement already satisfied: certifi>=2017.4.17 in /usr/local/lib/python3.10/dist-packages (from requests<3,>=2.21.0->tensorboard<2.15,>=2.14->tensorflow<2.15,>=2.14.0->tensorflow_text) (2023.7.22)\n",
            "Requirement already satisfied: MarkupSafe>=2.1.1 in /usr/local/lib/python3.10/dist-packages (from werkzeug>=1.0.1->tensorboard<2.15,>=2.14->tensorflow<2.15,>=2.14.0->tensorflow_text) (2.1.3)\n",
            "Requirement already satisfied: pyasn1<0.6.0,>=0.4.6 in /usr/local/lib/python3.10/dist-packages (from pyasn1-modules>=0.2.1->google-auth<3,>=1.6.3->tensorboard<2.15,>=2.14->tensorflow<2.15,>=2.14.0->tensorflow_text) (0.5.0)\n",
            "Requirement already satisfied: oauthlib>=3.0.0 in /usr/local/lib/python3.10/dist-packages (from requests-oauthlib>=0.7.0->google-auth-oauthlib<1.1,>=0.5->tensorboard<2.15,>=2.14->tensorflow<2.15,>=2.14.0->tensorflow_text) (3.2.2)\n",
            "Installing collected packages: tensorflow_text\n",
            "Successfully installed tensorflow_text-2.14.0\n"
          ]
        }
      ],
      "source": [
        "pip install tensorflow_text"
      ]
    },
    {
      "cell_type": "code",
      "execution_count": 2,
      "metadata": {
        "colab": {
          "base_uri": "https://localhost:8080/"
        },
        "id": "TRaWBaD49rha",
        "outputId": "f758bb03-1e44-4a8b-9ad8-302adbf96d18"
      },
      "outputs": [
        {
          "name": "stderr",
          "output_type": "stream",
          "text": [
            "[nltk_data] Downloading package wordnet to /root/nltk_data...\n",
            "[nltk_data] Downloading package stopwords to /root/nltk_data...\n",
            "[nltk_data]   Unzipping corpora/stopwords.zip.\n"
          ]
        },
        {
          "data": {
            "text/plain": [
              "True"
            ]
          },
          "execution_count": 2,
          "metadata": {},
          "output_type": "execute_result"
        }
      ],
      "source": [
        "import numpy as np\n",
        "from numpy import asarray\n",
        "from numpy import zeros\n",
        "import pandas as pd\n",
        "import seaborn as sns\n",
        "import re\n",
        "import string\n",
        "import matplotlib.pyplot as plt\n",
        "from imblearn.under_sampling import RandomUnderSampler\n",
        "from imblearn.over_sampling import RandomOverSampler\n",
        "from sklearn.model_selection import train_test_split\n",
        "from nltk.tokenize import RegexpTokenizer\n",
        "import nltk\n",
        "from keras.models import Sequential\n",
        "from keras.utils import to_categorical\n",
        "import tensorflow as tf\n",
        "import tensorflow_hub as hub\n",
        "import tensorflow_text as text\n",
        "from tensorflow.keras.layers import LSTM, Dense, Dropout, Input, Embedding, Flatten, Conv1D, GlobalMaxPooling1D\n",
        "from tensorflow.keras.preprocessing.text import Tokenizer\n",
        "from tensorflow.keras.preprocessing.sequence import pad_sequences\n",
        "from sklearn.metrics import precision_score, recall_score, f1_score\n",
        "\n",
        "\n",
        "nltk.download('wordnet')\n",
        "nltk.download('stopwords')"
      ]
    },
    {
      "cell_type": "code",
      "execution_count": 3,
      "metadata": {
        "colab": {
          "base_uri": "https://localhost:8080/"
        },
        "id": "arJFB0tx9rhb",
        "outputId": "2bc06526-abfe-43f1-d8c9-572ac8b8460e"
      },
      "outputs": [
        {
          "name": "stdout",
          "output_type": "stream",
          "text": [
            "Downloading...\n",
            "From: https://drive.google.com/uc?id=1-AlW7oNJHaqi3xk_9dWHUS52Dzl_FmFW\n",
            "To: /content/train_data.csv\n",
            "100% 635M/635M [00:03<00:00, 160MB/s]\n"
          ]
        }
      ],
      "source": [
        "!gdown 1-AlW7oNJHaqi3xk_9dWHUS52Dzl_FmFW"
      ]
    },
    {
      "cell_type": "code",
      "execution_count": 4,
      "metadata": {
        "colab": {
          "base_uri": "https://localhost:8080/"
        },
        "id": "WRDXHecS9rhb",
        "outputId": "19808194-6637-4f57-8943-46dd8150135c"
      },
      "outputs": [
        {
          "name": "stdout",
          "output_type": "stream",
          "text": [
            "Downloading...\n",
            "From: https://drive.google.com/uc?id=1-8TsrqTRFP-q9TM-6HinhO0ZVXFHq9TB\n",
            "To: /content/test_data.csv\n",
            "\r  0% 0.00/15.6M [00:00<?, ?B/s]\r100% 15.6M/15.6M [00:00<00:00, 168MB/s]\n"
          ]
        }
      ],
      "source": [
        "!gdown 1-8TsrqTRFP-q9TM-6HinhO0ZVXFHq9TB"
      ]
    },
    {
      "cell_type": "code",
      "execution_count": 5,
      "metadata": {
        "colab": {
          "base_uri": "https://localhost:8080/"
        },
        "id": "3bHGOpB29rhc",
        "outputId": "3858d5f0-282e-44f1-e25c-2fcc5abbc235"
      },
      "outputs": [
        {
          "name": "stderr",
          "output_type": "stream",
          "text": [
            "<ipython-input-5-4e17d86d315d>:1: DtypeWarning: Columns (1) have mixed types. Specify dtype option on import or set low_memory=False.\n",
            "  train = pd.read_csv(\"train_data.csv\")\n"
          ]
        }
      ],
      "source": [
        "train = pd.read_csv(\"train_data.csv\")\n",
        "test = pd.read_csv(\"test_data.csv\")"
      ]
    },
    {
      "cell_type": "markdown",
      "metadata": {
        "id": "6udZv-E19rhc"
      },
      "source": [
        "In this problem, we just want to focus on the classic \"Sentiment analysis using text data\" problem, and thence we will use only two columns: reviewText, overall."
      ]
    },
    {
      "cell_type": "code",
      "execution_count": 6,
      "metadata": {
        "id": "DfeRGF9a9rhd"
      },
      "outputs": [],
      "source": [
        "train = train[[\"reviewText\", \"overall\"]]\n",
        "test = test[[\"reviewText\"]]"
      ]
    },
    {
      "cell_type": "markdown",
      "metadata": {
        "id": "SLtn9e7F9rhd"
      },
      "source": [
        "We have already lowercased all of our data and implemented lemmatization and some other stuff, but just in case we will be doing some of that preprocessing again to make the model compatible to what we are pursuing.\n",
        "\n",
        "After that we will need to handle imbalancement.\n",
        "\n",
        "Based on the train data size, we have decided not to oversample anything. Despite loosing some data, we will need less time adjusting our model and we can always go back to oversampling, but for now we will undersample all the classes to 50000 rows."
      ]
    },
    {
      "cell_type": "markdown",
      "metadata": {
        "id": "tLxkg4GGRib4"
      },
      "source": [
        "Imbalancement Handling:"
      ]
    },
    {
      "cell_type": "code",
      "execution_count": 7,
      "metadata": {
        "colab": {
          "base_uri": "https://localhost:8080/"
        },
        "id": "_55WtT3u9rhd",
        "outputId": "599cfbaf-115c-44cb-9f72-4ae37dd57621"
      },
      "outputs": [
        {
          "name": "stderr",
          "output_type": "stream",
          "text": [
            "/usr/local/lib/python3.10/dist-packages/imblearn/utils/_validation.py:313: UserWarning: After over-sampling, the number of samples (100000) in class 1 will be larger than the number of samples in the majority class (class #4 -> 99999)\n",
            "  warnings.warn(\n",
            "/usr/local/lib/python3.10/dist-packages/imblearn/utils/_validation.py:313: UserWarning: After over-sampling, the number of samples (100000) in class 2 will be larger than the number of samples in the majority class (class #4 -> 99999)\n",
            "  warnings.warn(\n",
            "/usr/local/lib/python3.10/dist-packages/imblearn/utils/_validation.py:313: UserWarning: After over-sampling, the number of samples (100000) in class 3 will be larger than the number of samples in the majority class (class #4 -> 99999)\n",
            "  warnings.warn(\n",
            "/usr/local/lib/python3.10/dist-packages/imblearn/utils/_validation.py:313: UserWarning: After over-sampling, the number of samples (100000) in class 4 will be larger than the number of samples in the majority class (class #4 -> 99999)\n",
            "  warnings.warn(\n",
            "/usr/local/lib/python3.10/dist-packages/imblearn/utils/_validation.py:313: UserWarning: After over-sampling, the number of samples (100000) in class 5 will be larger than the number of samples in the majority class (class #4 -> 99999)\n",
            "  warnings.warn(\n"
          ]
        }
      ],
      "source": [
        "undersampler = RandomUnderSampler(sampling_strategy={1: 80000, 2: 50000, 3: 80000, 4: 99999, 5: 99999}, random_state=78)\n",
        "oversampler = RandomOverSampler(sampling_strategy={1: 100000, 2: 100000, 3: 100000, 4: 100000, 5: 100000}, random_state=78)\n",
        "\n",
        "X_resampled, y_resampled = undersampler.fit_resample(train.drop(columns=[\"overall\"]), train['overall'])\n",
        "X_resampled, y_resampled = oversampler.fit_resample(X_resampled, y_resampled)"
      ]
    },
    {
      "cell_type": "code",
      "execution_count": 8,
      "metadata": {
        "colab": {
          "base_uri": "https://localhost:8080/"
        },
        "id": "jx1voVB09rhd",
        "outputId": "3f6001b0-7b4b-4f8d-d1c9-2379c68509af"
      },
      "outputs": [
        {
          "name": "stdout",
          "output_type": "stream",
          "text": [
            "Balanced Rating Distribution:\n",
            "1    100000\n",
            "2    100000\n",
            "3    100000\n",
            "4    100000\n",
            "5    100000\n",
            "Name: overall, dtype: int64\n"
          ]
        }
      ],
      "source": [
        "balanced_distribution = y_resampled.value_counts().sort_index()\n",
        "print(\"Balanced Rating Distribution:\")\n",
        "print(balanced_distribution)"
      ]
    },
    {
      "cell_type": "markdown",
      "metadata": {
        "id": "xknBLC6-R3W_"
      },
      "source": [
        "Text Processing:"
      ]
    },
    {
      "cell_type": "code",
      "execution_count": 9,
      "metadata": {
        "id": "9RRnUrwkQLSR"
      },
      "outputs": [],
      "source": [
        "from nltk.corpus import stopwords\n",
        "stop = set(stopwords.words('english'))"
      ]
    },
    {
      "cell_type": "code",
      "execution_count": 10,
      "metadata": {
        "colab": {
          "base_uri": "https://localhost:8080/"
        },
        "id": "wDZi_ZaJBDjA",
        "outputId": "9d06a668-1b48-4a23-c373-d8ad65c90ed3"
      },
      "outputs": [
        {
          "data": {
            "text/plain": [
              "{'a',\n",
              " 'about',\n",
              " 'above',\n",
              " 'after',\n",
              " 'again',\n",
              " 'against',\n",
              " 'ain',\n",
              " 'all',\n",
              " 'am',\n",
              " 'an',\n",
              " 'and',\n",
              " 'any',\n",
              " 'as',\n",
              " 'at',\n",
              " 'be',\n",
              " 'because',\n",
              " 'before',\n",
              " 'being',\n",
              " 'below',\n",
              " 'between',\n",
              " 'both',\n",
              " 'but',\n",
              " 'by',\n",
              " 'd',\n",
              " 'doesn',\n",
              " \"doesn't\",\n",
              " 'down',\n",
              " 'during',\n",
              " 'each',\n",
              " 'few',\n",
              " 'for',\n",
              " 'from',\n",
              " 'further',\n",
              " 'he',\n",
              " 'her',\n",
              " 'here',\n",
              " 'hers',\n",
              " 'herself',\n",
              " 'him',\n",
              " 'himself',\n",
              " 'his',\n",
              " 'how',\n",
              " 'i',\n",
              " 'if',\n",
              " 'in',\n",
              " 'into',\n",
              " 'it',\n",
              " 'its',\n",
              " 'itself',\n",
              " 'just',\n",
              " 'll',\n",
              " 'm',\n",
              " 'ma',\n",
              " 'me',\n",
              " \"mightn't\",\n",
              " 'more',\n",
              " 'most',\n",
              " 'my',\n",
              " 'myself',\n",
              " 'needn',\n",
              " 'no',\n",
              " 'nor',\n",
              " 'not',\n",
              " 'now',\n",
              " 'o',\n",
              " 'of',\n",
              " 'off',\n",
              " 'on',\n",
              " 'once',\n",
              " 'only',\n",
              " 'or',\n",
              " 'other',\n",
              " 'our',\n",
              " 'ours',\n",
              " 'ourselves',\n",
              " 'out',\n",
              " 'over',\n",
              " 'own',\n",
              " 're',\n",
              " 's',\n",
              " 'same',\n",
              " 'shan',\n",
              " \"shan't\",\n",
              " 'she',\n",
              " \"she's\",\n",
              " 'so',\n",
              " 'some',\n",
              " 'such',\n",
              " 't',\n",
              " 'than',\n",
              " 'that',\n",
              " \"that'll\",\n",
              " 'the',\n",
              " 'their',\n",
              " 'theirs',\n",
              " 'them',\n",
              " 'themselves',\n",
              " 'then',\n",
              " 'there',\n",
              " 'these',\n",
              " 'they',\n",
              " 'this',\n",
              " 'those',\n",
              " 'through',\n",
              " 'to',\n",
              " 'too',\n",
              " 'under',\n",
              " 'until',\n",
              " 'up',\n",
              " 've',\n",
              " 'very',\n",
              " 'we',\n",
              " 'what',\n",
              " 'when',\n",
              " 'where',\n",
              " 'which',\n",
              " 'while',\n",
              " 'who',\n",
              " 'whom',\n",
              " 'why',\n",
              " 'with',\n",
              " 'won',\n",
              " 'y',\n",
              " 'you',\n",
              " \"you'd\",\n",
              " \"you'll\",\n",
              " \"you're\",\n",
              " \"you've\",\n",
              " 'your',\n",
              " 'yours',\n",
              " 'yourself',\n",
              " 'yourselves'}"
            ]
          },
          "execution_count": 10,
          "metadata": {},
          "output_type": "execute_result"
        }
      ],
      "source": [
        "verbs = set()\n",
        "verbs.add(\"wouldn't\")\n",
        "verbs.add(\"wouldn\")\n",
        "verbs.add(\"won't\")\n",
        "verbs.add(\"will\")\n",
        "verbs.add(\"weren't\")\n",
        "verbs.add(\"weren\")\n",
        "verbs.add(\"were\")\n",
        "verbs.add(\"wasn't\")\n",
        "verbs.add(\"wasn\")\n",
        "verbs.add(\"was\")\n",
        "verbs.add(\"shouldn't\")\n",
        "verbs.add(\"shouldn\")\n",
        "verbs.add(\"should've\")\n",
        "verbs.add(\"should\")\n",
        "verbs.add(\"needn't\")\n",
        "verbs.add(\"mustn't\")\n",
        "verbs.add(\"mustn\")\n",
        "verbs.add(\"mightn\")\n",
        "verbs.add(\"it's\")\n",
        "verbs.add(\"is\")\n",
        "verbs.add(\"isn\")\n",
        "verbs.add(\"isn't\")\n",
        "verbs.add(\"have\")\n",
        "verbs.add(\"haven't\")\n",
        "verbs.add(\"haven\")\n",
        "verbs.add(\"having\")\n",
        "verbs.add(\"has\")\n",
        "verbs.add(\"hasn't\")\n",
        "verbs.add(\"hasn\")\n",
        "verbs.add(\"had\")\n",
        "verbs.add(\"hadn't\")\n",
        "verbs.add(\"hadn\")\n",
        "verbs.add(\"been\")\n",
        "verbs.add(\"can\")\n",
        "verbs.add(\"couldn't\")\n",
        "verbs.add(\"couldn\")\n",
        "verbs.add(\"did\")\n",
        "verbs.add(\"didn\")\n",
        "verbs.add(\"didn't\")\n",
        "verbs.add(\"do\")\n",
        "verbs.add(\"does\")\n",
        "verbs.add(\"doesen't\")\n",
        "verbs.add(\"doesen\")\n",
        "verbs.add(\"doin\")\n",
        "verbs.add(\"doing\")\n",
        "verbs.add(\"don\")\n",
        "verbs.add(\"don't\")\n",
        "verbs.add(\"are\")\n",
        "verbs.add(\"aren\")\n",
        "verbs.add(\"aren't\")\n",
        "\n",
        "\n",
        "stop = stop - verbs\n",
        "stop"
      ]
    },
    {
      "cell_type": "code",
      "execution_count": 11,
      "metadata": {
        "id": "88KgVj5aAyje"
      },
      "outputs": [],
      "source": [
        "punctuation = list(string.punctuation)\n",
        "stop.update(punctuation)"
      ]
    },
    {
      "cell_type": "code",
      "execution_count": 12,
      "metadata": {
        "id": "ej59sJEEPILU"
      },
      "outputs": [],
      "source": [
        "#Remove punctuations, links, mentions and \\r\\n new line characters\n",
        "def strip_all_entities(text):\n",
        "    text = text.replace('\\r', '').replace('\\n', ' ').replace('\\n', ' ') #remove \\n and \\r\n",
        "    text = re.sub(r\"(?:\\@|https?\\://)\\S+\", \"\", text) #remove links and mentions\n",
        "    text = re.sub(r'[^\\x00-\\x7f]',r'', text) #remove non utf8/ascii characters such as '\\x9a\\x91\\x97\\x9a\\x97'\n",
        "    banned_list= string.punctuation + 'Ã'+'±'+'ã'+'¼'+'â'+'»'+'§'\n",
        "    table = str.maketrans('', '', banned_list)\n",
        "    text = text.translate(table)\n",
        "    return text\n",
        "\n",
        "def split_into_words(text):\n",
        "    # split into words by white space\n",
        "    words = text.split()\n",
        "    return words\n",
        "\n",
        "def to_lower_case(words):\n",
        "    # convert to lower case\n",
        "    words = [word.lower() for word in words]\n",
        "    return words\n",
        "\n",
        "def remove_punctuation(words):\n",
        "    # prepare regex for char filtering\n",
        "    re_punc = re.compile('[%s]' % re.escape(string.punctuation))\n",
        "    # remove punctuation from each word\n",
        "    stripped = [re_punc.sub('', w) for w in words]\n",
        "    return stripped\n",
        "\n",
        "def keep_alphabetic(words):\n",
        "    # remove remaining tokens that are not alphabetic\n",
        "    words = [word for word in words if word.isalpha()]\n",
        "    return words\n",
        "\n",
        "def remove_stopwords(words):\n",
        "    # filter out stop words\n",
        "    stop_words = set(stopwords.words('english'))\n",
        "    words = [w for w in words if not w in stop_words]\n",
        "    return words\n",
        "\n",
        "def to_sentence(words):\n",
        "    # join words to a sentence\n",
        "    return ' '.join(words)"
      ]
    },
    {
      "cell_type": "code",
      "execution_count": 13,
      "metadata": {
        "id": "hah-VyN7PIXG"
      },
      "outputs": [],
      "source": [
        "def denoise_text(text):\n",
        "    words = strip_all_entities(text)\n",
        "    words = split_into_words(text)\n",
        "    words = to_lower_case(words)\n",
        "    words = remove_punctuation(words)\n",
        "    words = keep_alphabetic(words)\n",
        "    words = remove_stopwords(words)\n",
        "\n",
        "    return to_sentence(words)"
      ]
    },
    {
      "cell_type": "code",
      "execution_count": 14,
      "metadata": {
        "colab": {
          "base_uri": "https://localhost:8080/"
        },
        "id": "q0RIaZB-JVkp",
        "outputId": "8778ca1b-7178-457a-9768-2b1e2f0b15b8"
      },
      "outputs": [
        {
          "data": {
            "text/plain": [
              "0         These headsets look like the real deal, the so...\n",
              "1         A cable really has one job and this one fails....\n",
              "2         All I can say is awful,worked for a few days t...\n",
              "3         I own a\\nB.Trek H9: POWERFUL BASS\\nB.Trek H10:...\n",
              "4         I ordered three (3) separate sizes of GearIt C...\n",
              "                                ...                        \n",
              "499995    About what you would expect for a cheap $25 pa...\n",
              "499996    The detector is good but the mounting bracket ...\n",
              "499997    Slow writing and reading speed. Its good for s...\n",
              "499998    Great, easy to use interface with easy to find...\n",
              "499999    is better that I thought it would be.\\nworks o...\n",
              "Name: reviewText, Length: 500000, dtype: object"
            ]
          },
          "execution_count": 14,
          "metadata": {},
          "output_type": "execute_result"
        }
      ],
      "source": [
        "X_resampled.reviewText"
      ]
    },
    {
      "cell_type": "code",
      "execution_count": 15,
      "metadata": {
        "id": "WYlohPJ4PLgN"
      },
      "outputs": [],
      "source": [
        "X_resampled.reviewText = X_resampled.reviewText.astype(str).apply(denoise_text)\n",
        "test.reviewText = test.reviewText.apply(denoise_text)"
      ]
    },
    {
      "cell_type": "markdown",
      "metadata": {
        "id": "18AKO6BM9rhe"
      },
      "source": [
        "We will tokenize, stemm and lemmatize again:"
      ]
    },
    {
      "cell_type": "code",
      "execution_count": 16,
      "metadata": {
        "id": "uIMBr5Sp9rhe"
      },
      "outputs": [],
      "source": [
        "tokenizer = RegexpTokenizer(r'\\w+')\n",
        "X_resampled['reviewText'] = X_resampled['reviewText'].apply(tokenizer.tokenize)\n",
        "test['reviewText'] = test['reviewText'].apply(tokenizer.tokenize)"
      ]
    },
    {
      "cell_type": "code",
      "execution_count": 17,
      "metadata": {
        "id": "P8sjdix39rhe"
      },
      "outputs": [],
      "source": [
        "st = nltk.PorterStemmer()\n",
        "def stemming_on_text(data):\n",
        "    text = [st.stem(word) for word in data]\n",
        "    return data\n",
        "\n",
        "X_resampled['reviewText'] = X_resampled['reviewText'].apply(lambda x: stemming_on_text(x))\n",
        "test['reviewText'] = test['reviewText'].apply(lambda x: stemming_on_text(x))"
      ]
    },
    {
      "cell_type": "code",
      "execution_count": 18,
      "metadata": {
        "id": "3pfMQ_y99rhe"
      },
      "outputs": [],
      "source": [
        "lm = nltk.WordNetLemmatizer()\n",
        "def lemmatizer_on_text(data):\n",
        "    text = [lm.lemmatize(word) for word in data]\n",
        "    return data\n",
        "\n",
        "X_resampled['reviewText'] = X_resampled['reviewText'].apply(lambda x: lemmatizer_on_text(x))\n",
        "test['reviewText'] = test['reviewText'].apply(lambda x: lemmatizer_on_text(x))"
      ]
    },
    {
      "cell_type": "markdown",
      "metadata": {
        "id": "QQcKZknh9rhe"
      },
      "source": [
        "Just copying test!"
      ]
    },
    {
      "cell_type": "code",
      "execution_count": 19,
      "metadata": {
        "id": "KBsCILgc9rhf"
      },
      "outputs": [],
      "source": [
        "newtest = test.copy()"
      ]
    },
    {
      "cell_type": "markdown",
      "metadata": {
        "id": "4HUIJFEw9rhf"
      },
      "source": [
        "<h3 align=left style=\"line-height:500%;font-family:vazir;color:#0099cc\">\n",
        "<font face=\"vazir\" color=\"#0099cc\">\n",
        "Validation Splitting:\n",
        "</font>\n",
        "</h3>"
      ]
    },
    {
      "cell_type": "code",
      "execution_count": 20,
      "metadata": {
        "id": "fOk32hyT9rhf"
      },
      "outputs": [],
      "source": [
        "X_train, X_test, y_train, y_test = train_test_split(X_resampled, y_resampled, test_size=0.2, shuffle=True)"
      ]
    },
    {
      "cell_type": "code",
      "execution_count": 21,
      "metadata": {
        "id": "0PtxoVuI9rhf"
      },
      "outputs": [],
      "source": [
        "X_train = X_train.reviewText\n",
        "X_test = X_test.reviewText\n",
        "newtest = newtest.reviewText"
      ]
    },
    {
      "cell_type": "code",
      "execution_count": 22,
      "metadata": {
        "id": "9tSDaMPy9rhf"
      },
      "outputs": [],
      "source": [
        "y_train -= 1\n",
        "y_test -= 1\n",
        "y_train_onehot = to_categorical(y_train)\n",
        "y_eval_onehot = to_categorical(y_test)"
      ]
    },
    {
      "cell_type": "markdown",
      "metadata": {
        "id": "Thc2FWuk9rhf"
      },
      "source": [
        "<h3 align=left style=\"line-height:500%;font-family:vazir;color:#0099cc\">\n",
        "<font face=\"vazir\" color=\"#0099cc\">\n",
        "Embedding our Data:\n",
        "</font>\n",
        "</h3>\n",
        "\n",
        "Turning text data into numbers"
      ]
    },
    {
      "cell_type": "code",
      "execution_count": 23,
      "metadata": {
        "id": "qYfxv5_G9rhf"
      },
      "outputs": [],
      "source": [
        "word_tok = Tokenizer()\n",
        "word_tok.fit_on_texts(X_train)\n",
        "\n",
        "X_train = word_tok.texts_to_sequences(X_train)\n",
        "X_test = word_tok.texts_to_sequences(X_test)\n",
        "newtest = word_tok.texts_to_sequences(newtest)"
      ]
    },
    {
      "cell_type": "code",
      "execution_count": 24,
      "metadata": {
        "colab": {
          "base_uri": "https://localhost:8080/"
        },
        "id": "qBkDqqun9rhf",
        "outputId": "7aeeab61-0d35-4b45-f9ca-ed9620406c7b"
      },
      "outputs": [
        {
          "data": {
            "text/plain": [
              "180782"
            ]
          },
          "execution_count": 24,
          "metadata": {},
          "output_type": "execute_result"
        }
      ],
      "source": [
        "voc_len = len(word_tok.word_index) + 1\n",
        "voc_len"
      ]
    },
    {
      "cell_type": "code",
      "execution_count": 25,
      "metadata": {
        "id": "RY2tI05R9rhf"
      },
      "outputs": [],
      "source": [
        "max_len  = 100\n",
        "\n",
        "X_train = pad_sequences(X_train, padding=\"post\", maxlen=max_len)\n",
        "X_test = pad_sequences(X_test, padding=\"post\", maxlen=max_len)\n",
        "newtest = pad_sequences(newtest, padding=\"post\", maxlen=max_len)"
      ]
    },
    {
      "cell_type": "code",
      "execution_count": 26,
      "metadata": {
        "id": "dpE0IA7_9rhg"
      },
      "outputs": [],
      "source": [
        "embedding_dict = dict()\n",
        "glove_file = open(\"glove.6B.100d.txt\", encoding = \"utf8\")\n",
        "\n",
        "for line in glove_file:\n",
        "    records = line.split()\n",
        "    word = records[0]\n",
        "    vec_dim = asarray(records[1:], dtype=\"float32\")\n",
        "    embedding_dict [word] = vec_dim\n",
        "\n",
        "glove_file.close()"
      ]
    },
    {
      "cell_type": "code",
      "execution_count": 27,
      "metadata": {
        "id": "8E5p2CxK9rhg"
      },
      "outputs": [],
      "source": [
        "embedding_matrix = np.zeros((voc_len, max_len))\n",
        "for word, index in word_tok.word_index.items():\n",
        "    embedding_vec = embedding_dict.get(word)\n",
        "    if embedding_vec is not None:\n",
        "        embedding_matrix[index] = embedding_vec"
      ]
    },
    {
      "cell_type": "code",
      "execution_count": 28,
      "metadata": {
        "colab": {
          "base_uri": "https://localhost:8080/"
        },
        "id": "SyZAql4S9rhg",
        "outputId": "db54f079-97e2-4c48-dea1-355e154a6636"
      },
      "outputs": [
        {
          "data": {
            "text/plain": [
              "(180782, 100)"
            ]
          },
          "execution_count": 28,
          "metadata": {},
          "output_type": "execute_result"
        }
      ],
      "source": [
        "embedding_matrix.shape"
      ]
    },
    {
      "cell_type": "markdown",
      "metadata": {
        "id": "nqi7dtkK9rhg"
      },
      "source": [
        "<h3 align=left style=\"line-height:500%;font-family:vazir;color:#0099cc\">\n",
        "<font face=\"vazir\" color=\"#0099cc\">\n",
        "Overviewing Data:\n",
        "</font>\n",
        "</h3>"
      ]
    },
    {
      "cell_type": "code",
      "execution_count": 29,
      "metadata": {
        "colab": {
          "base_uri": "https://localhost:8080/"
        },
        "id": "znf7v0Sw9rhg",
        "outputId": "35ea7793-a08f-42a0-8371-0bf7a44fdb93"
      },
      "outputs": [
        {
          "data": {
            "text/plain": [
              "array([[  30,    5,  365, ...,    0,    0,    0],\n",
              "       [  25,   98,    9, ...,    0,    0,    0],\n",
              "       [   3,   49,   13, ...,    0,    0,    0],\n",
              "       ...,\n",
              "       [2634,  847,   27, ...,    0,    0,    0],\n",
              "       [1121,    8,   34, ...,   83,  367, 5007],\n",
              "       [  46, 1032,  912, ...,    0,    0,    0]], dtype=int32)"
            ]
          },
          "execution_count": 29,
          "metadata": {},
          "output_type": "execute_result"
        }
      ],
      "source": [
        "X_train"
      ]
    },
    {
      "cell_type": "code",
      "execution_count": 30,
      "metadata": {
        "colab": {
          "base_uri": "https://localhost:8080/"
        },
        "id": "NmgaUVw09rhg",
        "outputId": "727090ea-cb0a-458a-c28c-a8d88118bdae"
      },
      "outputs": [
        {
          "data": {
            "text/plain": [
              "array([[   52,    48,    59, ...,     0,     0,     0],\n",
              "       [  218,    17,  5788, ...,     0,     0,     0],\n",
              "       [  132,   882,    23, ...,     0,     0,     0],\n",
              "       ...,\n",
              "       [ 1080,   278,  3807, ...,     0,     0,     0],\n",
              "       [41178,   355,   951, ...,  1149,    87,    69],\n",
              "       [  110,    43,   159, ...,     0,     0,     0]], dtype=int32)"
            ]
          },
          "execution_count": 30,
          "metadata": {},
          "output_type": "execute_result"
        }
      ],
      "source": [
        "X_test"
      ]
    },
    {
      "cell_type": "code",
      "execution_count": 31,
      "metadata": {
        "colab": {
          "base_uri": "https://localhost:8080/"
        },
        "id": "xEMtked79rhg",
        "outputId": "ad020b02-6276-4393-ddf9-ff20de796d22"
      },
      "outputs": [
        {
          "data": {
            "text/plain": [
              "array([[ 454,  667,   36, ...,    0,    0,    0],\n",
              "       [   1, 4091,  922, ...,    0,    0,    0],\n",
              "       [ 180,  643, 1984, ...,    0,    0,    0],\n",
              "       ...,\n",
              "       [ 236,  492,  707, ...,    0,    0,    0],\n",
              "       [  27,  694, 6126, ...,    0,    0,    0],\n",
              "       [ 447,   43,  294, ...,  244,   20,  111]], dtype=int32)"
            ]
          },
          "execution_count": 31,
          "metadata": {},
          "output_type": "execute_result"
        }
      ],
      "source": [
        "newtest"
      ]
    },
    {
      "cell_type": "markdown",
      "metadata": {
        "id": "kYeRTU1g9rhh"
      },
      "source": [
        "<h3 align=left style=\"line-height:500%;font-family:vazir;color:#0099cc\">\n",
        "<font face=\"vazir\" color=\"#0099cc\">\n",
        "Going for different Models:\n",
        "</font>\n",
        "</h3>"
      ]
    },
    {
      "cell_type": "markdown",
      "metadata": {
        "id": "bsZXdm2E9rhh"
      },
      "source": [
        "We'll start by a very simple nn model:"
      ]
    },
    {
      "cell_type": "code",
      "execution_count": 32,
      "metadata": {
        "id": "K3IIAkNZ9rhh"
      },
      "outputs": [],
      "source": [
        "snn = Sequential()\n",
        "emb_layer = Embedding(voc_len, 100, weights = [embedding_matrix], input_length = max_len, trainable = False)\n",
        "snn.add(emb_layer)\n",
        "snn.add(Flatten())\n",
        "snn.add(Dense(5, activation = \"sigmoid\"))"
      ]
    },
    {
      "cell_type": "code",
      "execution_count": 33,
      "metadata": {
        "colab": {
          "base_uri": "https://localhost:8080/"
        },
        "id": "8bSCDoVs9rhh",
        "outputId": "784d3edd-9225-4e43-aa14-8778cc8a0387"
      },
      "outputs": [
        {
          "name": "stdout",
          "output_type": "stream",
          "text": [
            "Model: \"sequential\"\n",
            "_________________________________________________________________\n",
            " Layer (type)                Output Shape              Param #   \n",
            "=================================================================\n",
            " embedding (Embedding)       (None, 100, 100)          18078200  \n",
            "                                                                 \n",
            " flatten (Flatten)           (None, 10000)             0         \n",
            "                                                                 \n",
            " dense (Dense)               (None, 5)                 50005     \n",
            "                                                                 \n",
            "=================================================================\n",
            "Total params: 18128205 (69.15 MB)\n",
            "Trainable params: 50005 (195.33 KB)\n",
            "Non-trainable params: 18078200 (68.96 MB)\n",
            "_________________________________________________________________\n"
          ]
        }
      ],
      "source": [
        "snn.compile(loss=\"categorical_crossentropy\", optimizer=\"adam\", metrics=[\"accuracy\"])\n",
        "snn.summary()"
      ]
    },
    {
      "cell_type": "code",
      "execution_count": 34,
      "metadata": {
        "colab": {
          "base_uri": "https://localhost:8080/",
          "height": 369
        },
        "id": "RtIcOIPBKqLi",
        "outputId": "f51d7955-108f-41a1-f92d-08cc7079d3da"
      },
      "outputs": [
        {
          "data": {
            "image/png": "[encoded data removed]",
            "text/plain": [
              "<IPython.core.display.Image object>"
            ]
          },
          "execution_count": 34,
          "metadata": {},
          "output_type": "execute_result"
        }
      ],
      "source": [
        "tf.keras.utils.plot_model(snn)"
      ]
    },
    {
      "cell_type": "code",
      "execution_count": 35,
      "metadata": {
        "colab": {
          "base_uri": "https://localhost:8080/"
        },
        "id": "wcM47cFe9rhk",
        "outputId": "b2879ba3-289e-4dc4-dda1-69d0bd9143cd"
      },
      "outputs": [
        {
          "name": "stdout",
          "output_type": "stream",
          "text": [
            "Epoch 1/5\n",
            "2500/2500 [==============================] - 12s 3ms/step - loss: 1.4991 - accuracy: 0.3679 - val_loss: 1.5045 - val_accuracy: 0.3800\n",
            "Epoch 2/5\n",
            "2500/2500 [==============================] - 9s 4ms/step - loss: 1.4550 - accuracy: 0.3980 - val_loss: 1.5050 - val_accuracy: 0.3826\n",
            "Epoch 3/5\n",
            "2500/2500 [==============================] - 9s 4ms/step - loss: 1.4472 - accuracy: 0.4049 - val_loss: 1.5300 - val_accuracy: 0.3821\n",
            "Epoch 4/5\n",
            "2500/2500 [==============================] - 8s 3ms/step - loss: 1.4469 - accuracy: 0.4055 - val_loss: 1.5389 - val_accuracy: 0.3801\n",
            "Epoch 5/5\n",
            "2500/2500 [==============================] - 9s 4ms/step - loss: 1.4454 - accuracy: 0.4076 - val_loss: 1.5222 - val_accuracy: 0.3846\n"
          ]
        }
      ],
      "source": [
        "snn_history = snn.fit(X_train, y_train_onehot, batch_size=128, epochs=5, verbose=1, validation_split=0.2)"
      ]
    },
    {
      "cell_type": "code",
      "execution_count": 36,
      "metadata": {
        "colab": {
          "base_uri": "https://localhost:8080/"
        },
        "id": "4r1YCOik9rhl",
        "outputId": "d44b4faf-5ba3-4415-b832-cdbc802938e9"
      },
      "outputs": [
        {
          "name": "stdout",
          "output_type": "stream",
          "text": [
            "3125/3125 [==============================] - 10s 3ms/step - loss: 1.5207 - accuracy: 0.3848\n"
          ]
        }
      ],
      "source": [
        "snn_score = snn.evaluate(X_test, y_eval_onehot, verbose=1)"
      ]
    },
    {
      "cell_type": "code",
      "execution_count": 37,
      "metadata": {
        "colab": {
          "base_uri": "https://localhost:8080/"
        },
        "id": "ZyJ34RqELg43",
        "outputId": "fc8e83b5-7907-4928-b4a2-8b8a37560335"
      },
      "outputs": [
        {
          "name": "stdout",
          "output_type": "stream",
          "text": [
            "3125/3125 [==============================] - 7s 2ms/step\n",
            "Precision: 0.38\n",
            "Recall: 0.38\n",
            "F1 Score: 0.38\n"
          ]
        }
      ],
      "source": [
        "ans = snn.predict(X_test, verbose=1)\n",
        "max_indices = np.argmax(ans, axis=1)\n",
        "zeros_array = np.zeros_like(ans)\n",
        "zeros_array[np.arange(len(ans)), max_indices] = 1\n",
        "indices = np.argwhere(zeros_array == 1)\n",
        "indices = indices[:, 1]\n",
        "from sklearn.metrics import precision_score, recall_score, f1_score\n",
        "precision = precision_score(y_test, indices, average='micro')\n",
        "recall = recall_score(y_test, indices, average='micro')\n",
        "f1 = f1_score(y_test, indices, average='micro')\n",
        "print(f'Precision: {precision:.2f}')\n",
        "print(f'Recall: {recall:.2f}')\n",
        "print(f'F1 Score: {f1:.2f}')"
      ]
    },
    {
      "cell_type": "code",
      "execution_count": 38,
      "metadata": {
        "colab": {
          "base_uri": "https://localhost:8080/",
          "height": 469
        },
        "id": "51bHfAJ_Owhp",
        "outputId": "99f47c7f-808a-46aa-e1ec-70e5ccb6cc42"
      },
      "outputs": [
        {
          "data": {
            "text/plain": [
              "array([[<Axes: title={'center': 'predicted'}>]], dtype=object)"
            ]
          },
          "execution_count": 38,
          "metadata": {},
          "output_type": "execute_result"
        },
        {
          "data": {
            "image/png": "[encoded data removed]",
            "text/plain": [
              "<Figure size 640x480 with 1 Axes>"
            ]
          },
          "metadata": {},
          "output_type": "display_data"
        }
      ],
      "source": [
        "df_train = pd.DataFrame({'predicted': indices})\n",
        "df_train.hist()"
      ]
    },
    {
      "cell_type": "code",
      "execution_count": 39,
      "metadata": {
        "colab": {
          "base_uri": "https://localhost:8080/"
        },
        "id": "jCNBij7EcqTj",
        "outputId": "b0f6cace-095a-49fb-8929-16f04125ddd8"
      },
      "outputs": [
        {
          "name": "stdout",
          "output_type": "stream",
          "text": [
            "Value: 0, Count: 24288\n",
            "Value: 1, Count: 17465\n",
            "Value: 2, Count: 24268\n",
            "Value: 3, Count: 17336\n",
            "Value: 4, Count: 16643\n"
          ]
        }
      ],
      "source": [
        "unique_values, counts = np.unique(indices, return_counts=True)\n",
        "for value, count in zip(unique_values, counts):\n",
        "    print(f'Value: {value}, Count: {count}')"
      ]
    },
    {
      "cell_type": "code",
      "execution_count": 40,
      "metadata": {
        "id": "5Y4U09idOwhq"
      },
      "outputs": [],
      "source": [
        "snn.save('SNN')"
      ]
    },
    {
      "cell_type": "markdown",
      "metadata": {
        "id": "ilqNJcNF9rhl"
      },
      "source": [
        "Not that appealing!\n",
        "\n",
        "Let's go for a CNN:"
      ]
    },
    {
      "cell_type": "code",
      "execution_count": 41,
      "metadata": {
        "id": "pMPOXAlU9rhl"
      },
      "outputs": [],
      "source": [
        "cnn = Sequential()\n",
        "emb_layer = Embedding(voc_len, 100, weights = [embedding_matrix], input_length = max_len, trainable = False)\n",
        "cnn.add(emb_layer)\n",
        "cnn.add(Conv1D(128, 5, activation=\"relu\"))\n",
        "cnn.add(GlobalMaxPooling1D())\n",
        "cnn.add(Dense(5, activation = \"sigmoid\"))"
      ]
    },
    {
      "cell_type": "code",
      "execution_count": 42,
      "metadata": {
        "colab": {
          "base_uri": "https://localhost:8080/"
        },
        "id": "_03wdwDN9rhl",
        "outputId": "996e68cf-7834-4986-f26b-d2c4ff69ccc4"
      },
      "outputs": [
        {
          "name": "stdout",
          "output_type": "stream",
          "text": [
            "Model: \"sequential_1\"\n",
            "_________________________________________________________________\n",
            " Layer (type)                Output Shape              Param #   \n",
            "=================================================================\n",
            " embedding_1 (Embedding)     (None, 100, 100)          18078200  \n",
            "                                                                 \n",
            " conv1d (Conv1D)             (None, 96, 128)           64128     \n",
            "                                                                 \n",
            " global_max_pooling1d (Glob  (None, 128)               0         \n",
            " alMaxPooling1D)                                                 \n",
            "                                                                 \n",
            " dense_1 (Dense)             (None, 5)                 645       \n",
            "                                                                 \n",
            "=================================================================\n",
            "Total params: 18142973 (69.21 MB)\n",
            "Trainable params: 64773 (253.02 KB)\n",
            "Non-trainable params: 18078200 (68.96 MB)\n",
            "_________________________________________________________________\n"
          ]
        }
      ],
      "source": [
        "cnn.compile(loss=\"categorical_crossentropy\", optimizer=\"adam\", metrics=[\"accuracy\"])\n",
        "cnn.summary()"
      ]
    },
    {
      "cell_type": "code",
      "execution_count": 43,
      "metadata": {
        "colab": {
          "base_uri": "https://localhost:8080/",
          "height": 466
        },
        "id": "Nkff0qscKqLj",
        "outputId": "2311bd3f-74e3-460f-c91e-f381a51749f0"
      },
      "outputs": [
        {
          "data": {
            "image/png": "[encoded data removed]",
            "text/plain": [
              "<IPython.core.display.Image object>"
            ]
          },
          "execution_count": 43,
          "metadata": {},
          "output_type": "execute_result"
        }
      ],
      "source": [
        "tf.keras.utils.plot_model(cnn)"
      ]
    },
    {
      "cell_type": "code",
      "execution_count": 44,
      "metadata": {
        "colab": {
          "base_uri": "https://localhost:8080/"
        },
        "id": "Oi6W9daF9rhl",
        "outputId": "5a805a77-5259-47f4-a35b-08cf0539db6f"
      },
      "outputs": [
        {
          "name": "stdout",
          "output_type": "stream",
          "text": [
            "Epoch 1/5\n",
            "2500/2500 [==============================] - 18s 5ms/step - loss: 1.2802 - accuracy: 0.4437 - val_loss: 1.2049 - val_accuracy: 0.4784\n",
            "Epoch 2/5\n",
            "2500/2500 [==============================] - 13s 5ms/step - loss: 1.1627 - accuracy: 0.5021 - val_loss: 1.1784 - val_accuracy: 0.4911\n",
            "Epoch 3/5\n",
            "2500/2500 [==============================] - 12s 5ms/step - loss: 1.1155 - accuracy: 0.5281 - val_loss: 1.1650 - val_accuracy: 0.5006\n",
            "Epoch 4/5\n",
            "2500/2500 [==============================] - 12s 5ms/step - loss: 1.0825 - accuracy: 0.5443 - val_loss: 1.1625 - val_accuracy: 0.5066\n",
            "Epoch 5/5\n",
            "2500/2500 [==============================] - 11s 5ms/step - loss: 1.0565 - accuracy: 0.5570 - val_loss: 1.1722 - val_accuracy: 0.5029\n"
          ]
        }
      ],
      "source": [
        "cnn_history = cnn.fit(X_train, y_train_onehot, batch_size=128, epochs=5, verbose=1, validation_split=0.2)"
      ]
    },
    {
      "cell_type": "code",
      "execution_count": 45,
      "metadata": {
        "colab": {
          "base_uri": "https://localhost:8080/"
        },
        "id": "GQhePVHa9rhl",
        "outputId": "e032023e-fe02-4a67-e477-7760060b7fff"
      },
      "outputs": [
        {
          "name": "stdout",
          "output_type": "stream",
          "text": [
            "3125/3125 [==============================] - 10s 3ms/step - loss: 1.1729 - accuracy: 0.5048\n"
          ]
        }
      ],
      "source": [
        "cnn_score = cnn.evaluate(X_test, y_eval_onehot, verbose=1)"
      ]
    },
    {
      "cell_type": "code",
      "execution_count": 46,
      "metadata": {
        "colab": {
          "base_uri": "https://localhost:8080/"
        },
        "id": "iMHKW1COUgj8",
        "outputId": "409f7849-e6c4-49ca-a95c-8edba0f08675"
      },
      "outputs": [
        {
          "name": "stdout",
          "output_type": "stream",
          "text": [
            "3125/3125 [==============================] - 7s 2ms/step\n",
            "Precision: 0.50\n",
            "Recall: 0.50\n",
            "F1 Score: 0.50\n"
          ]
        }
      ],
      "source": [
        "ans = cnn.predict(X_test, verbose=1)\n",
        "max_indices = np.argmax(ans, axis=1)\n",
        "zeros_array = np.zeros_like(ans)\n",
        "zeros_array[np.arange(len(ans)), max_indices] = 1\n",
        "indices = np.argwhere(zeros_array == 1)\n",
        "indices = indices[:, 1]\n",
        "from sklearn.metrics import precision_score, recall_score, f1_score\n",
        "precision = precision_score(y_test, indices, average='micro')\n",
        "recall = recall_score(y_test, indices, average='micro')\n",
        "f1 = f1_score(y_test, indices, average='micro')\n",
        "print(f'Precision: {precision:.2f}')\n",
        "print(f'Recall: {recall:.2f}')\n",
        "print(f'F1 Score: {f1:.2f}')"
      ]
    },
    {
      "cell_type": "code",
      "execution_count": 47,
      "metadata": {
        "colab": {
          "base_uri": "https://localhost:8080/",
          "height": 469
        },
        "id": "twD8h3-dOwhr",
        "outputId": "2392d5e6-ff18-4b5d-cf63-b18ad6189f7e"
      },
      "outputs": [
        {
          "data": {
            "text/plain": [
              "array([[<Axes: title={'center': 'predicted'}>]], dtype=object)"
            ]
          },
          "execution_count": 47,
          "metadata": {},
          "output_type": "execute_result"
        },
        {
          "data": {
            "image/png": "[encoded data removed]",
            "text/plain": [
              "<Figure size 640x480 with 1 Axes>"
            ]
          },
          "metadata": {},
          "output_type": "display_data"
        }
      ],
      "source": [
        "df_train = pd.DataFrame({'predicted': indices})\n",
        "df_train.hist()"
      ]
    },
    {
      "cell_type": "code",
      "execution_count": 48,
      "metadata": {
        "colab": {
          "base_uri": "https://localhost:8080/"
        },
        "id": "QL7XD9dbclxU",
        "outputId": "def0fe64-9786-45f0-891f-af567ac13189"
      },
      "outputs": [
        {
          "name": "stdout",
          "output_type": "stream",
          "text": [
            "Value: 0, Count: 18535\n",
            "Value: 1, Count: 21425\n",
            "Value: 2, Count: 16703\n",
            "Value: 3, Count: 27342\n",
            "Value: 4, Count: 15995\n"
          ]
        }
      ],
      "source": [
        "unique_values, counts = np.unique(indices, return_counts=True)\n",
        "for value, count in zip(unique_values, counts):\n",
        "    print(f'Value: {value}, Count: {count}')"
      ]
    },
    {
      "cell_type": "code",
      "execution_count": 49,
      "metadata": {
        "id": "Hpj-bkBXOwhr"
      },
      "outputs": [],
      "source": [
        "cnn.save('CNN')"
      ]
    },
    {
      "cell_type": "markdown",
      "metadata": {
        "id": "jl7uSh_G9rhm"
      },
      "source": [
        "And now an RNN (LSTM):"
      ]
    },
    {
      "cell_type": "code",
      "execution_count": 113,
      "metadata": {
        "id": "v3yHccF69rhm"
      },
      "outputs": [],
      "source": [
        "import tensorflow as tf\n",
        "rnn = Sequential()\n",
        "emb_layer = Embedding(voc_len, 100, weights = [embedding_matrix], input_length = max_len, trainable = False)\n",
        "rnn.add(emb_layer)\n",
        "rnn.add(LSTM(256))\n",
        "rnn.add(Dropout(0.1))\n",
        "rnn.add(Dense(5, activation = \"sigmoid\"))"
      ]
    },
    {
      "cell_type": "code",
      "execution_count": 114,
      "metadata": {
        "colab": {
          "base_uri": "https://localhost:8080/"
        },
        "id": "xpiklGIu9rhm",
        "outputId": "a0a682f9-0a26-4621-82ea-f8359c0a1edf"
      },
      "outputs": [
        {
          "name": "stdout",
          "output_type": "stream",
          "text": [
            "Model: \"sequential_10\"\n",
            "_________________________________________________________________\n",
            " Layer (type)                Output Shape              Param #   \n",
            "=================================================================\n",
            " embedding_10 (Embedding)    (None, 100, 100)          18078200  \n",
            "                                                                 \n",
            " lstm_9 (LSTM)               (None, 256)               365568    \n",
            "                                                                 \n",
            " dropout_10 (Dropout)        (None, 256)               0         \n",
            "                                                                 \n",
            " dense_11 (Dense)            (None, 5)                 1285      \n",
            "                                                                 \n",
            "=================================================================\n",
            "Total params: 18445053 (70.36 MB)\n",
            "Trainable params: 366853 (1.40 MB)\n",
            "Non-trainable params: 18078200 (68.96 MB)\n",
            "_________________________________________________________________\n"
          ]
        }
      ],
      "source": [
        "rnn.compile(loss=\"categorical_crossentropy\", optimizer=\"adam\", metrics=[\"accuracy\"])\n",
        "rnn.summary()"
      ]
    },
    {
      "cell_type": "code",
      "execution_count": 115,
      "metadata": {
        "colab": {
          "base_uri": "https://localhost:8080/",
          "height": 466
        },
        "id": "CLcNvD_5KqLk",
        "outputId": "072dfa4d-78f3-43f5-b1ab-d578821117ae"
      },
      "outputs": [
        {
          "data": {
            "image/png": "[encoded data removed]",
            "text/plain": [
              "<IPython.core.display.Image object>"
            ]
          },
          "execution_count": 115,
          "metadata": {},
          "output_type": "execute_result"
        }
      ],
      "source": [
        "tf.keras.utils.plot_model(rnn)"
      ]
    },
    {
      "cell_type": "code",
      "execution_count": 116,
      "metadata": {
        "colab": {
          "base_uri": "https://localhost:8080/"
        },
        "id": "EMlw_9J09rhm",
        "outputId": "534bbb9c-55ce-4f38-aa8d-ee611bb886be"
      },
      "outputs": [
        {
          "name": "stdout",
          "output_type": "stream",
          "text": [
            "Epoch 1/10\n",
            "1250/1250 [==============================] - 39s 30ms/step - loss: 1.3596 - accuracy: 0.3894 - val_loss: 1.2465 - val_accuracy: 0.4567\n",
            "Epoch 2/10\n",
            "1250/1250 [==============================] - 36s 29ms/step - loss: 1.2018 - accuracy: 0.4766 - val_loss: 1.1444 - val_accuracy: 0.5003\n",
            "Epoch 3/10\n",
            "1250/1250 [==============================] - 35s 28ms/step - loss: 1.1252 - accuracy: 0.5117 - val_loss: 1.1133 - val_accuracy: 0.5162\n",
            "Epoch 4/10\n",
            "1250/1250 [==============================] - 34s 27ms/step - loss: 1.0724 - accuracy: 0.5357 - val_loss: 1.0810 - val_accuracy: 0.5311\n",
            "Epoch 5/10\n",
            "1250/1250 [==============================] - 34s 27ms/step - loss: 1.0309 - accuracy: 0.5552 - val_loss: 1.0829 - val_accuracy: 0.5325\n",
            "Epoch 6/10\n",
            "1250/1250 [==============================] - 37s 30ms/step - loss: 0.9915 - accuracy: 0.5738 - val_loss: 1.0759 - val_accuracy: 0.5359\n",
            "Epoch 7/10\n",
            "1250/1250 [==============================] - 38s 30ms/step - loss: 0.9515 - accuracy: 0.5933 - val_loss: 1.0576 - val_accuracy: 0.5499\n",
            "Epoch 8/10\n",
            "1250/1250 [==============================] - 35s 28ms/step - loss: 0.9085 - accuracy: 0.6152 - val_loss: 1.0661 - val_accuracy: 0.5570\n",
            "Epoch 9/10\n",
            "1250/1250 [==============================] - 36s 29ms/step - loss: 0.8670 - accuracy: 0.6368 - val_loss: 1.0664 - val_accuracy: 0.5620\n",
            "Epoch 10/10\n",
            "1250/1250 [==============================] - 36s 28ms/step - loss: 0.8270 - accuracy: 0.6587 - val_loss: 1.0756 - val_accuracy: 0.5671\n"
          ]
        }
      ],
      "source": [
        "rnn_history = rnn.fit(X_train, y_train_onehot, batch_size=256, epochs=10, verbose=1, validation_split=0.2)"
      ]
    },
    {
      "cell_type": "code",
      "execution_count": 117,
      "metadata": {
        "colab": {
          "base_uri": "https://localhost:8080/"
        },
        "id": "fUrJnApK9rhm",
        "outputId": "71564dea-c554-4e22-a7a0-9684793b7da5"
      },
      "outputs": [
        {
          "name": "stdout",
          "output_type": "stream",
          "text": [
            "3125/3125 [==============================] - 19s 6ms/step - loss: 1.0737 - accuracy: 0.5675\n"
          ]
        }
      ],
      "source": [
        "rnn_score = rnn.evaluate(X_test, y_eval_onehot, verbose=1)"
      ]
    },
    {
      "cell_type": "code",
      "execution_count": 118,
      "metadata": {
        "colab": {
          "base_uri": "https://localhost:8080/"
        },
        "id": "nLhj9MzEUxX5",
        "outputId": "c95c515f-af84-42ea-aeaa-f5c1b193e947"
      },
      "outputs": [
        {
          "name": "stdout",
          "output_type": "stream",
          "text": [
            "3125/3125 [==============================] - 12s 4ms/step\n",
            "Precision: 0.57\n",
            "Recall: 0.57\n",
            "F1 Score: 0.57\n"
          ]
        }
      ],
      "source": [
        "ans = rnn.predict(X_test, verbose=1)\n",
        "max_indices = np.argmax(ans, axis=1)\n",
        "zeros_array = np.zeros_like(ans)\n",
        "zeros_array[np.arange(len(ans)), max_indices] = 1\n",
        "indices = np.argwhere(zeros_array == 1)\n",
        "indices = indices[:, 1]\n",
        "from sklearn.metrics import precision_score, recall_score, f1_score\n",
        "precision = precision_score(y_test, indices, average='micro')\n",
        "recall = recall_score(y_test, indices, average='micro')\n",
        "f1 = f1_score(y_test, indices, average='micro')\n",
        "print(f'Precision: {precision:.2f}')\n",
        "print(f'Recall: {recall:.2f}')\n",
        "print(f'F1 Score: {f1:.2f}')"
      ]
    },
    {
      "cell_type": "code",
      "execution_count": 119,
      "metadata": {
        "colab": {
          "base_uri": "https://localhost:8080/",
          "height": 469
        },
        "id": "Uuad0HnPOwhs",
        "outputId": "41d5969f-1cb0-41a8-cde5-fd0df2bc1a0a"
      },
      "outputs": [
        {
          "data": {
            "text/plain": [
              "array([[<Axes: title={'center': 'predicted'}>]], dtype=object)"
            ]
          },
          "execution_count": 119,
          "metadata": {},
          "output_type": "execute_result"
        },
        {
          "data": {
            "image/png": "[encoded data removed]",
            "text/plain": [
              "<Figure size 640x480 with 1 Axes>"
            ]
          },
          "metadata": {},
          "output_type": "display_data"
        }
      ],
      "source": [
        "df_train = pd.DataFrame({'predicted': indices})\n",
        "df_train.hist()"
      ]
    },
    {
      "cell_type": "code",
      "execution_count": 120,
      "metadata": {
        "colab": {
          "base_uri": "https://localhost:8080/"
        },
        "id": "N4CEpolAcdw2",
        "outputId": "f651247a-5ee3-4e55-c171-0cf54800c1e6"
      },
      "outputs": [
        {
          "name": "stdout",
          "output_type": "stream",
          "text": [
            "Value: 0, Count: 17653\n",
            "Value: 1, Count: 22089\n",
            "Value: 2, Count: 21542\n",
            "Value: 3, Count: 19103\n",
            "Value: 4, Count: 19613\n"
          ]
        }
      ],
      "source": [
        "unique_values, counts = np.unique(indices, return_counts=True)\n",
        "for value, count in zip(unique_values, counts):\n",
        "    print(f'Value: {value}, Count: {count}')"
      ]
    },
    {
      "cell_type": "code",
      "execution_count": 121,
      "metadata": {
        "id": "FGobqfVBOwhs"
      },
      "outputs": [],
      "source": [
        "rnn.save('RNN-FINAL')"
      ]
    },
    {
      "cell_type": "markdown",
      "metadata": {
        "id": "wEIcKRGp9rhm"
      },
      "source": [
        "Now that we have tried different hand-made models respective to GloVe embedding and NaiveBayes Classifier (not mentioned in the notebook), we will use BERT pre-trained model to check for significant increase in Accuracy."
      ]
    }
  ],
  "metadata": {
    "accelerator": "GPU",
    "colab": {
      "gpuType": "T4",
      "provenance": []
    },
    "kernelspec": {
      "display_name": "Python 3",
      "name": "python3"
    },
    "language_info": {
      "codemirror_mode": {
        "name": "ipython",
        "version": 3
      },
      "file_extension": ".py",
      "mimetype": "text/x-python",
      "name": "python",
      "nbconvert_exporter": "python",
      "pygments_lexer": "ipython3",
      "version": "3.9.17"
    }
  },
  "nbformat": 4,
  "nbformat_minor": 0
}
